{
 "cells": [
  {
   "cell_type": "markdown",
   "metadata": {},
   "source": [
    "# Task 1"
   ]
  },
  {
   "cell_type": "code",
   "execution_count": null,
   "metadata": {},
   "outputs": [],
   "source": [
    "import os\n",
    "import cv2\n",
    "import numpy as np\n",
    "\n",
    "CUR_DIR = os.getcwd()\n",
    "\n",
    "# Reading the image file, in the BGR color space.\n",
    "image = cv2.imread(os.path.join(CUR_DIR, \"for_watson.png\"), cv2.IMREAD_COLOR)\n",
    "\n",
    "# Transforming BGR image to Grayscale - MESSAGE : My Dear Watson,\n",
    "image_gray = cv2.cvtColor(image, cv2.COLOR_BGR2GRAY)\n",
    "cv2.imshow(\"image_gray\", image_gray)\n",
    "cv2.imwrite(\"for_watson_gray.png\", image_gray)\n",
    "\n",
    "# Sharpening the grayscale image using a kernel of size 3x3.\n",
    "kernel = np.array([[-1, -1, -1], [-1, 9, -1], [-1, -1, -1]])\n",
    "image_gray_sharp = cv2.filter2D(image_gray, -1, kernel)\n",
    "cv2.imshow(\"image_gray_sharp\", image_gray_sharp)\n",
    "cv2.imwrite(\"for_watson_gray_sharp.png\", image_gray_sharp)\n",
    "\n",
    "# Press 0 to destroy all windows.\n",
    "cv2.waitKey(0)\n",
    "cv2.destroyAllWindows()\n"
   ]
  },
  {
   "cell_type": "markdown",
   "metadata": {},
   "source": [
    "# Task 2"
   ]
  },
  {
   "cell_type": "code",
   "execution_count": null,
   "metadata": {},
   "outputs": [],
   "source": []
  },
  {
   "cell_type": "markdown",
   "metadata": {},
   "source": [
    "# Task 3"
   ]
  },
  {
   "cell_type": "markdown",
   "metadata": {},
   "source": [
    "## Calibrate camera using photos of AprilTag markers"
   ]
  },
  {
   "cell_type": "code",
   "execution_count": null,
   "metadata": {},
   "outputs": [],
   "source": [
    "\"\"\"\n",
    "Calibrate camera using AprilTag markers\n",
    "\"\"\"\n",
    "\n",
    "import importlib\n",
    "import os\n",
    "import sys\n",
    "\n",
    "import pyAprilTag\n",
    "\n",
    "CUR_DIR = os.getcwd()\n",
    "LOG_DIR = os.path.join(CUR_DIR, \"calib_log\")\n",
    "sys.path.insert(0, CUR_DIR)  # otherwise importlib cannot find the path\n",
    "\n",
    "# If calib_log doesn't exist, create it.\n",
    "if not os.path.exists(LOG_DIR):\n",
    "    os.makedirs(LOG_DIR)\n",
    "    pyAprilTag.calib(\n",
    "        pyAprilTag.calib_pattern_path,\n",
    "        \"photo://{}\".format(os.path.join(pyAprilTag.calib_example_dir, \"*.png\")),\n",
    "        log_dir=LOG_DIR,\n",
    "        nDistCoeffs=4,\n",
    "    )\n",
    "\n",
    "logs = sorted([f for f in os.listdir(LOG_DIR) if f.endswith(\".py\")])\n",
    "if len(logs) == 0:\n",
    "    print(\"no calibration log available!\")\n",
    "    exit(-1)\n",
    "\n",
    "last_log = os.path.relpath(os.path.join(LOG_DIR, logs[-1])).replace(os.path.sep, \".\")[\n",
    "    :-3\n",
    "]\n",
    "\n",
    "calib = importlib.import_module(last_log)\n",
    "print(\"last log: \" + last_log)\n",
    "print(\"camera intrinsic matrix:\")\n",
    "print(calib.K)\n",
    "print(\"camera distortion parameters:\")\n",
    "print(calib.distCoeffs)\n"
   ]
  },
  {
   "cell_type": "markdown",
   "metadata": {},
   "source": [
    "## Calibrate camera using video feed from the camera"
   ]
  },
  {
   "cell_type": "code",
   "execution_count": null,
   "metadata": {},
   "outputs": [],
   "source": [
    "\"\"\"\n",
    "Calibrate camera using AprilTag markers\n",
    "\"\"\"\n",
    "\n",
    "import importlib\n",
    "import os\n",
    "import sys\n",
    "\n",
    "import pyAprilTag\n",
    "\n",
    "CUR_DIR = os.getcwd()\n",
    "LOG_DIR = os.path.join(CUR_DIR, \"calib_log\")\n",
    "sys.path.insert(0, CUR_DIR)  # otherwise importlib cannot find the path\n",
    "if (\n",
    "    not os.path.exists(LOG_DIR)\n",
    "    or len([f.endswith(\".png\") for f in os.listdir(LOG_DIR)]) < 2\n",
    "):\n",
    "    os.makedirs(LOG_DIR)\n",
    "    pyAprilTag.calib(\n",
    "        pyAprilTag.calib_pattern_path,\n",
    "        \"camera://{:d}\".format(0),\n",
    "        log_dir=LOG_DIR,\n",
    "        nDistCoeffs=4,\n",
    "    )\n",
    "\n",
    "logs = sorted([f for f in os.listdir(LOG_DIR) if f.endswith(\".py\")])\n",
    "if len(logs) == 0:\n",
    "    print(\"no calibration log available!\")\n",
    "    exit(-1)\n",
    "\n",
    "last_log = os.path.relpath(os.path.join(LOG_DIR, logs[-1])).replace(os.path.sep, \".\")[\n",
    "    :-3\n",
    "]\n",
    "calib = importlib.import_module(last_log)\n",
    "\n",
    "print(f\"last log: {last_log}\")\n",
    "print(f\"camera intrinsic matrix: {calib.K}\")\n",
    "print(f\"camera distortion parameters: {calib.distCoeffs}\")\n"
   ]
  },
  {
   "cell_type": "markdown",
   "metadata": {},
   "source": [
    "# Task 4"
   ]
  },
  {
   "cell_type": "code",
   "execution_count": null,
   "metadata": {},
   "outputs": [],
   "source": [
    "import importlib\n",
    "import os\n",
    "import sys\n",
    "\n",
    "import cv2\n",
    "import numpy as np\n",
    "import pyAprilTag\n",
    "\n",
    "\n",
    "def compute_camera_matrix(K: np.array, R: np.array, t: np.array) -> np.array:\n",
    "    return K @ np.r_[np.c_[R, t]]  # 3x4 array\n",
    "\n",
    "\n",
    "def draw_cube(K, image):\n",
    "    ids, corners, centers, Hs = pyAprilTag.find(image)\n",
    "    num, R, t, N = cv2.decomposeHomographyMat(Hs, K)\n",
    "    print(num, R, t, N)\n",
    "\n",
    "\n",
    "def get_calib_from_log():\n",
    "    CUR_DIR = os.getcwd()\n",
    "    LOG_DIR = os.path.join(CUR_DIR, \"calib_log\")\n",
    "    sys.path.insert(0, CUR_DIR)  # otherwise importlib cannot find the path\n",
    "\n",
    "    logs = sorted([f for f in os.listdir(LOG_DIR) if f.endswith(\".py\")])\n",
    "    if len(logs) == 0:\n",
    "        print(\"no calibration log available!\")\n",
    "        exit(-1)\n",
    "\n",
    "    last_log = os.path.relpath(os.path.join(LOG_DIR, logs[-1])).replace(\n",
    "        os.path.sep, \".\"\n",
    "    )[:-3]\n",
    "    return importlib.import_module(last_log)\n",
    "\n",
    "\n",
    "def main():\n",
    "\n",
    "    # get calibration matrix\n",
    "    K = get_calib_from_log().K\n",
    "    distCoeffs = get_calib_from_log().distCoeffs\n",
    "    \n",
    "    capture = cv2.VideoCapture(0)\n",
    "    # read the images\n",
    "    image1 = cv2.imread(\"image1.jpg\")\n",
    "    image2 = cv2.imread(\"image2.jpg\")\n",
    "\n",
    "    # draw the cube\n",
    "    draw_cube(K, image1)\n",
    "    draw_cube(K, image2)\n",
    "\n",
    "    # find apriltags in the images\n",
    "    ids, corners, centers, Hs = pyAprilTag.find(image1)\n",
    "    ids, corners, centers, Hs = pyAprilTag.find(image2)\n",
    "    \n",
    "    # cv2.imshow(\"image2\", image2)\n",
    "    # cv2.waitKey(0)\n",
    "\n",
    "\n",
    "if __name__ == \"__main__\":\n",
    "    main()\n"
   ]
  }
 ],
 "metadata": {
  "interpreter": {
   "hash": "590bffb8e8b129253d22e19a502235d0a75e512856b8ab5e8c15fd904769601c"
  },
  "kernelspec": {
   "display_name": "Python 3.7.3 64-bit ('hw': conda)",
   "language": "python",
   "name": "python3"
  },
  "language_info": {
   "name": "python",
   "version": "3.9.7"
  },
  "orig_nbformat": 4
 },
 "nbformat": 4,
 "nbformat_minor": 2
}
