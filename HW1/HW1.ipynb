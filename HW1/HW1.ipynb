{
 "cells": [
  {
   "cell_type": "markdown",
   "metadata": {},
   "source": [
    "# Task 1\n"
   ]
  },
  {
   "cell_type": "code",
   "execution_count": null,
   "metadata": {},
   "outputs": [],
   "source": [
    "import os\n",
    "import cv2\n",
    "import numpy as np\n",
    "\n",
    "CUR_DIR = os.getcwd()\n",
    "\n",
    "# Reading the image file, in the BGR color space.\n",
    "image = cv2.imread(os.path.join(CUR_DIR, \"for_watson.png\"), cv2.IMREAD_COLOR)\n",
    "\n",
    "# Transforming BGR image to Grayscale - MESSAGE : My Dear Watson,\n",
    "image_gray = cv2.cvtColor(image, cv2.COLOR_BGR2GRAY)\n",
    "cv2.imshow(\"image_gray\", image_gray)\n",
    "cv2.imwrite(\"for_watson_gray.png\", image_gray)\n",
    "\n",
    "# Sharpening the grayscale image using a kernel of size 3x3.\n",
    "kernel = np.array([[-1, -1, -1], [-1, 9, -1], [-1, -1, -1]])\n",
    "image_gray_sharp = cv2.filter2D(image_gray, -1, kernel)\n",
    "cv2.imshow(\"image_gray_sharp\", image_gray_sharp)\n",
    "cv2.imwrite(\"for_watson_gray_sharp.png\", image_gray_sharp)\n",
    "\n",
    "# Press 0 to destroy all windows.\n",
    "cv2.waitKey(0)\n",
    "cv2.destroyAllWindows()"
   ]
  },
  {
   "cell_type": "markdown",
   "metadata": {},
   "source": [
    "# Task 2\n"
   ]
  },
  {
   "cell_type": "code",
   "execution_count": null,
   "metadata": {},
   "outputs": [],
   "source": []
  },
  {
   "cell_type": "markdown",
   "metadata": {},
   "source": [
    "# Task 3\n"
   ]
  },
  {
   "cell_type": "markdown",
   "metadata": {},
   "source": [
    "## Calibrate camera using photos of AprilTag markers\n"
   ]
  },
  {
   "cell_type": "code",
   "execution_count": null,
   "metadata": {},
   "outputs": [],
   "source": [
    "\"\"\"\n",
    "Calibrate camera using AprilTag markers\n",
    "\"\"\"\n",
    "\n",
    "import importlib\n",
    "import os\n",
    "import sys\n",
    "\n",
    "import pyAprilTag\n",
    "\n",
    "CUR_DIR = os.getcwd()\n",
    "LOG_DIR = os.path.join(CUR_DIR, \"calib_log\")\n",
    "sys.path.insert(0, CUR_DIR)  # otherwise importlib cannot find the path\n",
    "\n",
    "# If calib_log doesn't exist, create it.\n",
    "if not os.path.exists(LOG_DIR):\n",
    "    os.makedirs(LOG_DIR)\n",
    "    pyAprilTag.calib(\n",
    "        pyAprilTag.calib_pattern_path,\n",
    "        \"photo://{}\".format(os.path.join(pyAprilTag.calib_example_dir, \"*.png\")),\n",
    "        log_dir=LOG_DIR,\n",
    "        nDistCoeffs=4,\n",
    "    )\n",
    "\n",
    "logs = sorted([f for f in os.listdir(LOG_DIR) if f.endswith(\".py\")])\n",
    "if len(logs) == 0:\n",
    "    print(\"no calibration log available!\")\n",
    "    exit(-1)\n",
    "\n",
    "last_log = os.path.relpath(os.path.join(LOG_DIR, logs[-1])).replace(os.path.sep, \".\")[\n",
    "    :-3\n",
    "]\n",
    "\n",
    "calib = importlib.import_module(last_log)\n",
    "print(\"last log: \" + last_log)\n",
    "print(\"camera intrinsic matrix:\")\n",
    "print(calib.K)\n",
    "print(\"camera distortion parameters:\")\n",
    "print(calib.distCoeffs)\n"
   ]
  },
  {
   "cell_type": "markdown",
   "metadata": {},
   "source": [
    "## Calibrate camera using video feed of April Tags\n"
   ]
  },
  {
   "cell_type": "code",
   "execution_count": null,
   "metadata": {},
   "outputs": [],
   "source": [
    "\"\"\"\n",
    "Calibrate camera using AprilTag markers\n",
    "\"\"\"\n",
    "\n",
    "import importlib\n",
    "import os\n",
    "import sys\n",
    "\n",
    "import pyAprilTag\n",
    "\n",
    "CUR_DIR = os.getcwd()\n",
    "LOG_DIR = os.path.join(CUR_DIR, \"calib_log\")\n",
    "sys.path.insert(0, CUR_DIR)  # otherwise importlib cannot find the path\n",
    "if (\n",
    "    not os.path.exists(LOG_DIR)\n",
    "    or len([f.endswith(\".png\") for f in os.listdir(LOG_DIR)]) < 2\n",
    "):\n",
    "    os.makedirs(LOG_DIR)\n",
    "    pyAprilTag.calib(\n",
    "        pyAprilTag.calib_pattern_path,\n",
    "        \"camera://{:d}\".format(0),\n",
    "        log_dir=LOG_DIR,\n",
    "        nDistCoeffs=4,\n",
    "    )\n",
    "\n",
    "logs = sorted([f for f in os.listdir(LOG_DIR) if f.endswith(\".py\")])\n",
    "if len(logs) == 0:\n",
    "    print(\"no calibration log available!\")\n",
    "    exit(-1)\n",
    "\n",
    "last_log = os.path.relpath(os.path.join(LOG_DIR, logs[-1])).replace(os.path.sep, \".\")[\n",
    "    :-3\n",
    "]\n",
    "calib = importlib.import_module(last_log)\n",
    "\n",
    "print(f\"last log: {last_log}\")\n",
    "print(f\"camera intrinsic matrix: {calib.K}\")\n",
    "print(f\"camera distortion parameters: {calib.distCoeffs}\")\n"
   ]
  },
  {
   "cell_type": "markdown",
   "metadata": {},
   "source": [
    "# Task 4\n"
   ]
  },
  {
   "cell_type": "code",
   "execution_count": null,
   "metadata": {},
   "outputs": [],
   "source": [
    "import importlib\n",
    "import os\n",
    "import sys\n",
    "\n",
    "import cv2\n",
    "import matplotlib.pyplot as plt\n",
    "import numpy as np\n",
    "import pyAprilTag\n",
    "\n",
    "img = cv2.imread(\"picture1.jpg\")\n",
    "ids, corners, centers, Hs = pyAprilTag.find(img)\n",
    "if img.ndim == 3:\n",
    "    img = img[:, :, ::-1]  # BGR => RGB\n",
    "print(ids)\n",
    "plt.imshow(img)\n",
    "plt.show()\n",
    "\n",
    "def get_calib_from_log():\n",
    "    CUR_DIR = os.getcwd()\n",
    "    LOG_DIR = os.path.join(CUR_DIR, \"calib_log\")\n",
    "    sys.path.insert(0, CUR_DIR)  # otherwise importlib cannot find the path\n",
    "\n",
    "    logs = sorted([f for f in os.listdir(LOG_DIR) if f.endswith(\".py\")])\n",
    "    if len(logs) == 0:\n",
    "        print(\"no calibration log available!\")\n",
    "        exit(-1)\n",
    "\n",
    "    last_log = os.path.relpath(os.path.join(LOG_DIR, logs[-1])).replace(\n",
    "        os.path.sep, \".\"\n",
    "    )[:-3]\n",
    "    return importlib.import_module(last_log)\n",
    "\n",
    "# get calibration matrix\n",
    "K = get_calib_from_log().K\n",
    "distCoeffs = get_calib_from_log().distCoeffs\n",
    "\n",
    "# get R, t from Homography\n",
    "num, Rs, Ts, Ns = cv2.decomposeHomographyMat(Hs, K)\n",
    "\n",
    "# compute camera matrix - take first 2 rows of R, and concatenate it to t\n",
    "P = K @ np.concatenate((Rs[1][:, 0:2], Ts[1]), axis=1)\n",
    "\n",
    "# add corners to an array\n",
    "corners = np.r_[corners[0].T, np.array([[1, 1, 1, 1]])]\n",
    "\n",
    "# project ponp.rounds to 3D\n",
    "corners_3D = np.linalg.inv(P) @ corners\n",
    "corners = corners[:2]\n",
    "\n",
    "    \n",
    "\n",
    "\n",
    "\n",
    "\n",
    "\n",
    "\n",
    "\n",
    "\n",
    "\n",
    "\n",
    "\n",
    "\n",
    "    \n",
    "\n",
    "\n",
    "\n",
    "    \n",
    "\n",
    "\n",
    "\n",
    "\n",
    "    \n",
    "\n"
   ]
  },
  {
   "cell_type": "code",
   "execution_count": null,
   "metadata": {},
   "outputs": [],
   "source": [
    "corners_3D"
   ]
  },
  {
   "cell_type": "code",
   "execution_count": null,
   "metadata": {},
   "outputs": [],
   "source": [
    "new_P = K @ np.c_[Rs[1], Ts[1]]\n",
    "new_corners_3D = [\n",
    "    [0.64362657, 0.43640331, 0.37787371, 0.56456077],\n",
    "    [0.37340871, 0.41298599, 0.11923397, 0.1092112],\n",
    "    [\n",
    "        (0.36343648 - (0.564560770 - 0.37787371)),\n",
    "        (0.58801459 - (0.564560770 - 0.37787371)),\n",
    "        (0.68424048 - (0.564560770 - 0.37787371)),\n",
    "        (0.47916178 - (0.564560770 - 0.37787371)),\n",
    "    ,\n",
    "    [1, 1, 1, 1],\n",
    "    ]"
   ]
  },
  {
   "cell_type": "code",
   "execution_count": null,
   "metadata": {},
   "outputs": [],
   "source": [
    "new_P"
   ]
  },
  {
   "cell_type": "code",
   "execution_count": null,
   "metadata": {},
   "outputs": [],
   "source": [
    "new_corners = new_P @ new_corners_3D\n",
    "new_corners"
   ]
  },
  {
   "cell_type": "code",
   "execution_count": null,
   "metadata": {},
   "outputs": [],
   "source": [
    "new_corners = new_corners[:2]\n",
    "new_corners"
   ]
  },
  {
   "cell_type": "code",
   "execution_count": null,
   "metadata": {},
   "outputs": [],
   "source": [
    "def draw_cube(image, corners1, corners2):\n",
    "    cv2.rectangle(\n",
    "        image,\n",
    "        (\n",
    "            np.round(corners1[0][0]).astype(\"int\"),\n",
    "            np.round(corners1[1][0]).astype(\"int\"),\n",
    "        ),\n",
    "        (\n",
    "            np.round(corners1[0][2]).astype(\"int\"),\n",
    "            np.round(corners1[1][2]).astype(\"int\"),\n",
    "        ),\n",
    "        (0, 0, 255),\n",
    "        5,\n",
    "    )\n",
    "    cv2.rectangle(\n",
    "        image,\n",
    "        (\n",
    "            np.round(corners2[0][0]).astype(\"int\"),\n",
    "            np.round(corners2[1][0]).astype(\"int\"),\n",
    "        ),\n",
    "        (\n",
    "            np.round(corners2[0][2]).astype(\"int\"),\n",
    "            np.round(corners2[1][2]).astype(\"int\"),\n",
    "        ),\n",
    "        (0, 0, 255),\n",
    "        5,\n",
    "    )\n",
    "    cv2.line(\n",
    "        image,\n",
    "        (np.round(corners1[0][0]).astype(\"int\"), np.round(corners1[1][0]).astype(\"int\")),\n",
    "        (np.round(corners2[0][0]).astype(\"int\"), np.round(corners2[1][0]).astype(\"int\")),\n",
    "        (0, 0, 255),\n",
    "        5,\n",
    "    )\n",
    "    cv2.line(\n",
    "        image,\n",
    "        (np.round(corners1[0][2]).astype(\"int\"), np.round(corners1[1][2]).astype(\"int\")),\n",
    "        (np.round(corners2[0][2]).astype(\"int\"), np.round(corners2[1][2]).astype(\"int\")),\n",
    "        (0, 0, 255),\n",
    "        5,\n",
    "    )"
   ]
  },
  {
   "cell_type": "code",
   "execution_count": null,
   "metadata": {},
   "outputs": [],
   "source": [
    "draw_cube(img, corners, new_corners)\n",
    "cv2.imshow(\"cube\", img)\n",
    "# plt.show(temp)\n",
    "\n",
    "# Press 0 to destroy all windows.\n",
    "cv2.waitKey(0)\n",
    "cv2.destroyAllWindows()"
   ]
  }
 ],
 "metadata": {
  "interpreter": {
   "hash": "590bffb8e8b129253d22e19a502235d0a75e512856b8ab5e8c15fd904769601c"
  },
  "kernelspec": {
   "display_name": "Python 3.7.3 64-bit ('hw': conda)",
   "language": "python",
   "name": "python3"
  },
  "language_info": {
   "name": "python",
   "version": "3.9.7"
  },
  "orig_nbformat": 4
 },
 "nbformat": 4,
 "nbformat_minor": 2
}
