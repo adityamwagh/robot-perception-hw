{
 "cells": [
  {
   "cell_type": "code",
   "execution_count": 2,
   "metadata": {},
   "outputs": [],
   "source": [
    "# import libraries\n",
    "from time import sleep\n",
    "\n",
    "import matplotlib.pyplot as plt\n",
    "import numpy as np\n",
    "import torch\n",
    "import torch.nn as nn\n",
    "import torch.nn.functional as F\n",
    "import torch.optim as optim\n",
    "from torch.utils.data import DataLoader\n",
    "from torchvision import datasets\n",
    "from torchvision.transforms import ToTensor\n",
    "from tqdm import tqdm, trange\n"
   ]
  },
  {
   "cell_type": "code",
   "execution_count": 3,
   "metadata": {},
   "outputs": [],
   "source": [
    "device = torch.device('cuda:0' if torch.cuda.is_available() else 'cpu')"
   ]
  },
  {
   "cell_type": "code",
   "execution_count": 4,
   "metadata": {},
   "outputs": [],
   "source": [
    "# load dataset\n",
    "train_data = datasets.FashionMNIST(root=\"data\", train=True, download=True, transform=ToTensor())\n",
    "test_data = datasets.FashionMNIST(root=\"data\", train=False, download=True, transform=ToTensor())\n",
    "\n",
    "# training data loader\n",
    "train_dataloader = DataLoader(train_data, batch_size=60000, shuffle=True)\n",
    "# testing data loader\n",
    "test_dataloader = DataLoader(test_data, batch_size=10000, shuffle=True)"
   ]
  },
  {
   "cell_type": "code",
   "execution_count": 5,
   "metadata": {},
   "outputs": [],
   "source": [
    "train_iterator = iter(train_dataloader)\n",
    "test_iterator = iter(test_dataloader)\n",
    "\n",
    "# train_images, train_labels = next(train_iterator)\n",
    "# train_images, train_labels = next(train_iterator)"
   ]
  },
  {
   "cell_type": "code",
   "execution_count": 6,
   "metadata": {},
   "outputs": [
    {
     "data": {
      "image/png": "[encoded data removed]",
      "text/plain": [
       "<Figure size 576x576 with 9 Axes>"
      ]
     },
     "metadata": {
      "needs_background": "light"
     },
     "output_type": "display_data"
    }
   ],
   "source": [
    "\"\"\"\n",
    "Plot 8 samples from dataset\n",
    "\"\"\"\n",
    "\n",
    "labels_map = {\n",
    "    0: \"T-Shirt\",\n",
    "    1: \"Trouser\",\n",
    "    2: \"Pullover\",\n",
    "    3: \"Dress\",\n",
    "    4: \"Coat\",\n",
    "    5: \"Sandal\",\n",
    "    6: \"Shirt\",\n",
    "    7: \"Sneaker\",\n",
    "    8: \"Bag\",\n",
    "    9: \"Ankle Boot\",\n",
    "}\n",
    "\n",
    "figure = plt.figure(figsize=(8, 8))\n",
    "cols, rows = 3, 3\n",
    "for i in range(1, cols * rows + 1):\n",
    "    sample_idx = torch.randint(len(train_data), size=(1,)).item()\n",
    "    img, label = train_data[sample_idx]\n",
    "    figure.add_subplot(rows, cols, i)\n",
    "    plt.title(labels_map[label])\n",
    "    plt.axis(\"off\")\n",
    "    plt.imshow(img.squeeze(), cmap=\"gray\")\n",
    "plt.show()"
   ]
  },
  {
   "cell_type": "code",
   "execution_count": 7,
   "metadata": {},
   "outputs": [],
   "source": [
    "# write encoder\n",
    "class Encoder(nn.Module):\n",
    "    \"\"\"ENCODER MODULE THAT TAKES IN THE SIZE OF LATENT DIMENSIONS\"\"\"\n",
    "    def __init__(self):\n",
    "        super(Encoder, self).__init__()\n",
    "        self.conv1 = nn.Conv2d(1, 4, kernel_size=5, device=device) # N, 1, 28, 28 -> N, 4, 24, 24\n",
    "        self.conv2 = nn.Conv2d(4, 8, kernel_size=5, device=device) # N, 4, 24, 24 -> N, 8, 20, 20\n",
    "        self.bn1 = nn.BatchNorm2d(8) # N, 8, 20, 20 -> N, 8, 20, 20\n",
    "        self.conv3 = nn.Conv2d(8, 16, kernel_size=5, device=device) # N, 8, 20, 20 -> N, 16, 16, 16\n",
    "        self.conv4 = nn.Conv2d(16, 32, kernel_size=5, device=device) # N, 16, 16, 16 -> N, 32, 12, 12\n",
    "        self.bn2 = nn.BatchNorm2d(32) # N, 32, 12, 12 -> N, 32, 12, 12\n",
    "        self.conv5 = nn.Conv2d(32, 32, kernel_size=5, device=device) # N, 32, 12, 12 -> N, 32, 8, 8\n",
    "        self.conv6 = nn.Conv2d(32, 32, kernel_size=5, device=device) # N, 32, 8, 8 -> N, 32, 4, 4\n",
    "        self.bn3 = nn.BatchNorm2d(32) # N, 32, 4, 4 -> N, 32, 4, 4\n",
    "\n",
    "    def forward(self, x):\n",
    "        x = F.leaky_relu(self.conv1(x))\n",
    "        x = F.leaky_relu(self.bn1(self.conv2(x)))\n",
    "        x = F.leaky_relu(self.conv3(x))\n",
    "        x = F.leaky_relu(self.bn2(self.conv4(x)))\n",
    "        x = F.leaky_relu(self.conv5(x))\n",
    "        x = F.leaky_relu(self.bn3(self.conv6(x)))\n",
    "        x = x.view(-1, 32 * 4 * 4)\n",
    "        return x\n"
   ]
  },
  {
   "cell_type": "code",
   "execution_count": 8,
   "metadata": {},
   "outputs": [],
   "source": [
    "# write decoder\n",
    "class Decoder(nn.Module):\n",
    "    \"\"\"DECODER MODULE THAT TAKES IN THE SIZE OF LATENT DIMENSIONS\"\"\"\n",
    "    def __init__(self):\n",
    "        super(Decoder, self).__init__()\n",
    "        self.convTran6 = nn.ConvTranspose2d(32, 32, kernel_size=5, device=device)\n",
    "        self.convTran5 = nn.ConvTranspose2d(32, 32, kernel_size=5, device=device)\n",
    "        self.bn3 = nn.BatchNorm2d(32)\n",
    "        self.convTran4 = nn.ConvTranspose2d(32, 16, kernel_size=5, device=device)\n",
    "        self.convTran3 = nn.ConvTranspose2d(16, 8, kernel_size=5, device=device)\n",
    "        self.bn2 = nn.BatchNorm2d(8)\n",
    "        self.convTran2 = nn.ConvTranspose2d(8, 4, kernel_size=5, device=device)\n",
    "        self.convTran1 = nn.ConvTranspose2d(4, 1, kernel_size=5, device=device)\n",
    "        self.bn1 = nn.BatchNorm2d(1)\n",
    "        \n",
    "    def forward(self, x):\n",
    "        x = x.view(-1, 32, 4, 4)\n",
    "        x = F.leaky_relu(self.convTran6(x))\n",
    "        x = F.leaky_relu(self.bn3(self.convTran5(x)))\n",
    "        x = F.leaky_relu(self.convTran4(x))\n",
    "        x = F.leaky_relu(self.bn2(self.convTran3(x)))\n",
    "        x = F.leaky_relu(self.convTran2(x))\n",
    "        x = F.leaky_relu(self.bn1(self.convTran1(x)))\n",
    "        return x.view((-1, 1, 28, 28))"
   ]
  },
  {
   "cell_type": "code",
   "execution_count": 9,
   "metadata": {},
   "outputs": [],
   "source": [
    "# write autoencoder\n",
    "class AutoEncoder(nn.Module):\n",
    "    \"\"\"AUTOENCODER MODULE THAT TAKES IN THE SIZE OF LATENT DIMENSIONS\"\"\"\n",
    "    def __init__(self):\n",
    "        super(AutoEncoder, self).__init__()\n",
    "        self.encoder = Encoder()\n",
    "        self.decoder = Decoder()\n",
    "\n",
    "    def forward(self, x):\n",
    "        x = self.encoder(x)\n",
    "        return self.decoder(x)"
   ]
  },
  {
   "cell_type": "code",
   "execution_count": 10,
   "metadata": {},
   "outputs": [],
   "source": [
    "# Instantiate model\n",
    "model = AutoEncoder().to(device=device)\n",
    "\n",
    "# Hyperparameters\n",
    "loss = nn.MSELoss()\n",
    "optimizer = torch.optim.Adam(model.parameters(), lr=1e-2, weight_decay=1e-5)\n",
    "num_epochs = 100"
   ]
  },
  {
   "cell_type": "code",
   "execution_count": 11,
   "metadata": {},
   "outputs": [
    {
     "name": "stderr",
     "output_type": "stream",
     "text": [
      "  0%|          | 0/100 [00:00<?, ?it/s]"
     ]
    }
   ],
   "source": [
    "# train autoencoder\n",
    "loop = tqdm(iterable=range(num_epochs), total=len(range(num_epochs)))\n",
    "for epoch in loop:\n",
    "    sleep(0.1)\n",
    "    for (images, _) in train_dataloader:\n",
    "        # send data to device\n",
    "        images = images.to(device=device)\n",
    "\n",
    "        # predict\n",
    "        predictions = model(images)\n",
    "\n",
    "        # calculate loss\n",
    "        loss = loss(predictions, images)\n",
    "\n",
    "        # backprop\n",
    "        optimizer.zero_grad()\n",
    "        loss.backward()\n",
    "\n",
    "        # gradient descent\n",
    "        optimizer.step()\n",
    "\n",
    "    # progressbar setup\n",
    "    loop.set_description(desc=f\"Executing epoch {epoch}/{num_epochs}\")\n",
    "    loop.set_postfix({\"loss: \":loss.item()})"
   ]
  },
  {
   "cell_type": "code",
   "execution_count": null,
   "metadata": {},
   "outputs": [],
   "source": []
  }
 ],
 "metadata": {
  "interpreter": {
   "hash": "7408f0d4c12535deb2b0354c56abda692220ad33347a550270b79730d35cb881"
  },
  "kernelspec": {
   "display_name": "Python 3.9.7 64-bit ('pytorch': conda)",
   "language": "python",
   "name": "python3"
  },
  "language_info": {
   "codemirror_mode": {
    "name": "ipython",
    "version": 3
   },
   "file_extension": ".py",
   "mimetype": "text/x-python",
   "name": "python",
   "nbconvert_exporter": "python",
   "pygments_lexer": "ipython3",
   "version": "3.9.7"
  },
  "orig_nbformat": 4
 },
 "nbformat": 4,
 "nbformat_minor": 2
}
