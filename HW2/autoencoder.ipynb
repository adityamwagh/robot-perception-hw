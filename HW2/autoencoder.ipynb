{
 "cells": [
  {
   "cell_type": "code",
   "execution_count": 136,
   "metadata": {},
   "outputs": [],
   "source": [
    "# import libraries\n",
    "import matplotlib.pyplot as plt\n",
    "import numpy as np\n",
    "import torch\n",
    "import torch.nn as nn\n",
    "import torch.nn.functional as F\n",
    "import torch.optim as optim\n",
    "from torch.utils.data import DataLoader\n",
    "from torchvision import datasets\n",
    "from torchvision.transforms import ToTensor\n",
    "from tqdm import tqdm\n"
   ]
  },
  {
   "cell_type": "code",
   "execution_count": 137,
   "metadata": {},
   "outputs": [],
   "source": [
    "device = torch.device('cuda:0' if torch.cuda.is_available() else 'cpu')"
   ]
  },
  {
   "cell_type": "code",
   "execution_count": 138,
   "metadata": {},
   "outputs": [],
   "source": [
    "# load dataset\n",
    "train_data = datasets.FashionMNIST(root=\"data\", train=True, download=True, transform=ToTensor())\n",
    "test_data = datasets.FashionMNIST(root=\"data\", train=False, download=True, transform=ToTensor())\n",
    "\n",
    "# training data loader\n",
    "train_dataloader = DataLoader(train_data, batch_size=60000, shuffle=True)\n",
    "# testing data loader\n",
    "test_dataloader = DataLoader(test_data, batch_size=10000, shuffle=True)"
   ]
  },
  {
   "cell_type": "code",
   "execution_count": 139,
   "metadata": {},
   "outputs": [],
   "source": [
    "train_iterator = iter(train_dataloader)\n",
    "test_iterator = iter(test_dataloader)\n",
    "\n",
    "# train_images, train_labels = next(train_iterator)\n",
    "# train_images, train_labels = next(train_iterator)"
   ]
  },
  {
   "cell_type": "code",
   "execution_count": 140,
   "metadata": {},
   "outputs": [
    {
     "data": {
      "image/png": "[encoded data removed]",
      "text/plain": [
       "<Figure size 576x576 with 9 Axes>"
      ]
     },
     "metadata": {
      "needs_background": "light"
     },
     "output_type": "display_data"
    }
   ],
   "source": [
    "\"\"\"\n",
    "Plot 8 samples from dataset\n",
    "\"\"\"\n",
    "\n",
    "labels_map = {\n",
    "    0: \"T-Shirt\",\n",
    "    1: \"Trouser\",\n",
    "    2: \"Pullover\",\n",
    "    3: \"Dress\",\n",
    "    4: \"Coat\",\n",
    "    5: \"Sandal\",\n",
    "    6: \"Shirt\",\n",
    "    7: \"Sneaker\",\n",
    "    8: \"Bag\",\n",
    "    9: \"Ankle Boot\",\n",
    "}\n",
    "\n",
    "figure = plt.figure(figsize=(8, 8))\n",
    "cols, rows = 3, 3\n",
    "for i in range(1, cols * rows + 1):\n",
    "    sample_idx = torch.randint(len(train_data), size=(1,)).item()\n",
    "    img, label = train_data[sample_idx]\n",
    "    figure.add_subplot(rows, cols, i)\n",
    "    plt.title(labels_map[label])\n",
    "    plt.axis(\"off\")\n",
    "    plt.imshow(img.squeeze(), cmap=\"gray\")\n",
    "plt.show()"
   ]
  },
  {
   "cell_type": "code",
   "execution_count": 141,
   "metadata": {},
   "outputs": [],
   "source": [
    "# write encoder\n",
    "class Encoder(nn.Module):\n",
    "    \"\"\"ENCODER MODULE THAT TAKES IN THE SIZE OF LATENT DIMENSIONS\"\"\"\n",
    "    def __init__(self, latent_dims):\n",
    "        super(Encoder, self).__init__()\n",
    "        self.conv1 = nn.Conv2d(1, 4, kernel_size=3, device=device) # N, 1, 28, 28 -> N, 4, 26, 26\n",
    "        self.conv2 = nn.Conv2d(4, 8, kernel_size=3, device=device) # N, 4, 26, 26 -> N, 8, 24, 24\n",
    "        self.bn1 = nn.BatchNorm2d(8) # N, 8, 24, 24 -> N, 8, 24, 24\n",
    "        self.maxpool1 = nn.MaxPool2d((2,2), return_indices=True) # N, 8, 24, 24 -> N, 8, 12, 12\n",
    "        self.conv3 = nn.Conv2d(8, 16, kernel_size=3, device=device) # N, 8, 12, 12 -> N, 16, 10, 10\n",
    "        self.conv4 = nn.Conv2d(16, 32, kernel_size=3, device=device) # N, 16, 10, 10 -> N, 32, 8, 8\n",
    "        self.bn2 = nn.BatchNorm2d(32) # N, 32, 8, 8 -> N, 32, 8, 8\n",
    "        self.maxpool2 = nn.MaxPool2d((2,2), return_indices=True) # N, 32, 8, 8 -> N, 32, 4, 4\n",
    "        self.conv5 = nn.Conv2d(32, 32, kernel_size=3, device=device) # N, 32, 4, 4 -> N, 32, 2, 2\n",
    "        self.linear1 = nn.Linear(32 * 2 * 2, latent_dims, device=device)\n",
    "\n",
    "    def forward(self, x):\n",
    "        x = F.leaky_relu(self.conv1(x))\n",
    "        x = F.leaky_relu(self.bn1(self.conv2(x)))\n",
    "        x, self.indices1 = self.maxpool1(x)\n",
    "        x = F.leaky_relu(self.conv3(x))\n",
    "        x = F.leaky_relu(self.bn2(self.conv4(x)))\n",
    "        x, self.indices2 = self.maxpool2(x)\n",
    "        x = F.leaky_relu(self.conv5(x))\n",
    "        x = x.view(-1, 32 * 2 * 2)\n",
    "        x = F.leaky_relu(self.linear1(x))\n",
    "        return x, self.indices1, self.indices2\n"
   ]
  },
  {
   "cell_type": "code",
   "execution_count": 142,
   "metadata": {},
   "outputs": [],
   "source": [
    "# write decoder\n",
    "class Decoder(nn.Module):\n",
    "    \"\"\"DECODER MODULE THAT TAKES IN THE SIZE OF LATENT DIMENSIONS\"\"\"\n",
    "    def __init__(self, indices1, indices2):\n",
    "        super(Decoder, self).__init__()\n",
    "        self.indices1 = indices1\n",
    "        self.indices2 = indices2\n",
    "        self.convTran1 = nn.ConvTranspose2d(32, 32, kernel_size=3, device=device)\n",
    "        self.maxunpool1 = nn.MaxUnpool2d((2,2))\n",
    "        self.convTran2 = nn.ConvTranspose2d(32, 16, kernel_size=3, device=device)\n",
    "        self.convTran3 = nn.ConvTranspose2d(16, 8, kernel_size=3, device=device)\n",
    "        self.bn1 = nn.BatchNorm2d(8)\n",
    "        self.maxunpool1 = nn.MaxUnpool2d((2,2))\n",
    "        self.convTran4 = nn.ConvTranspose2d(8, 4, kernel_size=3, device=device)\n",
    "        self.convTran5 = nn.ConvTranspose2d(4, 1, kernel_size=3, device=device)\n",
    "        self.bn2 = nn.BatchNorm2d(1)\n",
    "        \n",
    "    def forward(self, x):\n",
    "        x = x.view(-1, 32, 2, 2)\n",
    "        x = F.leaky_relu(self.convTran1(x))\n",
    "        x = self.maxunpool1(x, self.indices2)\n",
    "        x = F.leaky_relu(self.convTran2(x))\n",
    "        x = F.leaky_relu(self.bn1(self.convTran3(x)))\n",
    "        x = self.maxunpool2(x, self.indices1)\n",
    "        x = F.leaky_relu(self.convTran4(x))\n",
    "        x = F.leaky_relu(self.bn2(self.convTran5(x)))\n",
    "        return x.reshape((-1, 1, 28, 28))"
   ]
  },
  {
   "cell_type": "code",
   "execution_count": 143,
   "metadata": {},
   "outputs": [],
   "source": [
    "# write autoencoder\n",
    "class AutoEncoder(nn.Module):\n",
    "    \"\"\"AUTOENCODER MODULE THAT TAKES IN THE SIZE OF LATENT DIMENSIONS\"\"\"\n",
    "    def __init__(self, latent_dims):\n",
    "        super(AutoEncoder, self).__init__()\n",
    "        self.encoder = Encoder(latent_dims)\n",
    "        \n",
    "    def forward(self, x):\n",
    "        x, indices1, indices2 = self.encoder(x)\n",
    "        return Decoder(x, indices1, indices2)"
   ]
  },
  {
   "cell_type": "code",
   "execution_count": 144,
   "metadata": {},
   "outputs": [],
   "source": [
    "latent_dims = 32\n",
    "\n",
    "# Instantiate model\n",
    "model = AutoEncoder(latent_dims).to(device=device)\n",
    "\n",
    "# Hyperparameters\n",
    "loss = nn.MSELoss()\n",
    "optimizer = torch.optim.Adam(model.parameters(), lr=1e-2, weight_decay=1e-5)\n",
    "num_epochs = 100"
   ]
  },
  {
   "cell_type": "code",
   "execution_count": 145,
   "metadata": {},
   "outputs": [
    {
     "name": "stderr",
     "output_type": "stream",
     "text": [
      "                                     \r"
     ]
    },
    {
     "ename": "TypeError",
     "evalue": "__init__() takes 3 positional arguments but 4 were given",
     "output_type": "error",
     "traceback": [
      "\u001b[0;31m---------------------------------------------------------------------------\u001b[0m",
      "\u001b[0;31mTypeError\u001b[0m                                 Traceback (most recent call last)",
      "\u001b[0;32m/var/folders/hv/vk1fcrxd0snbcgcwcjyrdg2h0000gn/T/ipykernel_43419/1679397152.py\u001b[0m in \u001b[0;36m<module>\u001b[0;34m\u001b[0m\n\u001b[1;32m      8\u001b[0m \u001b[0;34m\u001b[0m\u001b[0m\n\u001b[1;32m      9\u001b[0m         \u001b[0;31m# predict\u001b[0m\u001b[0;34m\u001b[0m\u001b[0;34m\u001b[0m\u001b[0m\n\u001b[0;32m---> 10\u001b[0;31m         \u001b[0mpredictions\u001b[0m \u001b[0;34m=\u001b[0m \u001b[0mmodel\u001b[0m\u001b[0;34m(\u001b[0m\u001b[0mimages\u001b[0m\u001b[0;34m)\u001b[0m\u001b[0;34m\u001b[0m\u001b[0;34m\u001b[0m\u001b[0m\n\u001b[0m\u001b[1;32m     11\u001b[0m \u001b[0;34m\u001b[0m\u001b[0m\n\u001b[1;32m     12\u001b[0m         \u001b[0;31m# calculate loss\u001b[0m\u001b[0;34m\u001b[0m\u001b[0;34m\u001b[0m\u001b[0m\n",
      "\u001b[0;32m~/miniforge3/envs/pytorch/lib/python3.9/site-packages/torch/nn/modules/module.py\u001b[0m in \u001b[0;36m_call_impl\u001b[0;34m(self, *input, **kwargs)\u001b[0m\n\u001b[1;32m   1100\u001b[0m         if not (self._backward_hooks or self._forward_hooks or self._forward_pre_hooks or _global_backward_hooks\n\u001b[1;32m   1101\u001b[0m                 or _global_forward_hooks or _global_forward_pre_hooks):\n\u001b[0;32m-> 1102\u001b[0;31m             \u001b[0;32mreturn\u001b[0m \u001b[0mforward_call\u001b[0m\u001b[0;34m(\u001b[0m\u001b[0;34m*\u001b[0m\u001b[0minput\u001b[0m\u001b[0;34m,\u001b[0m \u001b[0;34m**\u001b[0m\u001b[0mkwargs\u001b[0m\u001b[0;34m)\u001b[0m\u001b[0;34m\u001b[0m\u001b[0;34m\u001b[0m\u001b[0m\n\u001b[0m\u001b[1;32m   1103\u001b[0m         \u001b[0;31m# Do not call functions when jit is used\u001b[0m\u001b[0;34m\u001b[0m\u001b[0;34m\u001b[0m\u001b[0m\n\u001b[1;32m   1104\u001b[0m         \u001b[0mfull_backward_hooks\u001b[0m\u001b[0;34m,\u001b[0m \u001b[0mnon_full_backward_hooks\u001b[0m \u001b[0;34m=\u001b[0m \u001b[0;34m[\u001b[0m\u001b[0;34m]\u001b[0m\u001b[0;34m,\u001b[0m \u001b[0;34m[\u001b[0m\u001b[0;34m]\u001b[0m\u001b[0;34m\u001b[0m\u001b[0;34m\u001b[0m\u001b[0m\n",
      "\u001b[0;32m/var/folders/hv/vk1fcrxd0snbcgcwcjyrdg2h0000gn/T/ipykernel_43419/738064436.py\u001b[0m in \u001b[0;36mforward\u001b[0;34m(self, x)\u001b[0m\n\u001b[1;32m      8\u001b[0m     \u001b[0;32mdef\u001b[0m \u001b[0mforward\u001b[0m\u001b[0;34m(\u001b[0m\u001b[0mself\u001b[0m\u001b[0;34m,\u001b[0m \u001b[0mx\u001b[0m\u001b[0;34m)\u001b[0m\u001b[0;34m:\u001b[0m\u001b[0;34m\u001b[0m\u001b[0;34m\u001b[0m\u001b[0m\n\u001b[1;32m      9\u001b[0m         \u001b[0mx\u001b[0m\u001b[0;34m,\u001b[0m \u001b[0mindices1\u001b[0m\u001b[0;34m,\u001b[0m \u001b[0mindices2\u001b[0m \u001b[0;34m=\u001b[0m \u001b[0mself\u001b[0m\u001b[0;34m.\u001b[0m\u001b[0mencoder\u001b[0m\u001b[0;34m(\u001b[0m\u001b[0mx\u001b[0m\u001b[0;34m)\u001b[0m\u001b[0;34m\u001b[0m\u001b[0;34m\u001b[0m\u001b[0m\n\u001b[0;32m---> 10\u001b[0;31m         \u001b[0;32mreturn\u001b[0m \u001b[0mDecoder\u001b[0m\u001b[0;34m(\u001b[0m\u001b[0mx\u001b[0m\u001b[0;34m,\u001b[0m \u001b[0mindices1\u001b[0m\u001b[0;34m,\u001b[0m \u001b[0mindices2\u001b[0m\u001b[0;34m)\u001b[0m\u001b[0;34m\u001b[0m\u001b[0;34m\u001b[0m\u001b[0m\n\u001b[0m",
      "\u001b[0;31mTypeError\u001b[0m: __init__() takes 3 positional arguments but 4 were given"
     ]
    }
   ],
   "source": [
    "# train autoencoder\n",
    "for epoch in range(num_epochs):\n",
    "    loop = tqdm(enumerate(train_dataloader), total=len(train_dataloader), leave=False)\n",
    "    for batch_idx, (images, labels) in loop:\n",
    "        # send data to device\n",
    "        images = images.to(device=device)\n",
    "        labels = labels.to(device=device)\n",
    "\n",
    "        # predict\n",
    "        predictions = model(images)\n",
    "\n",
    "        # calculate loss\n",
    "        loss = loss(predictions, labels)\n",
    "\n",
    "        # backprop\n",
    "        optimizer.zero_grad()\n",
    "        loss.backward()\n",
    "\n",
    "        # gradient descent\n",
    "        optimizer.step()\n",
    "\n",
    "        loop.set_description(f\"Executing epoch {epoch}/{num_epochs}\")\n",
    "        loop.set_postfix(loss=loss.item())"
   ]
  },
  {
   "cell_type": "code",
   "execution_count": null,
   "metadata": {},
   "outputs": [],
   "source": []
  }
 ],
 "metadata": {
  "interpreter": {
   "hash": "7408f0d4c12535deb2b0354c56abda692220ad33347a550270b79730d35cb881"
  },
  "kernelspec": {
   "display_name": "Python 3.9.7 64-bit ('pytorch': conda)",
   "language": "python",
   "name": "python3"
  },
  "language_info": {
   "codemirror_mode": {
    "name": "ipython",
    "version": 3
   },
   "file_extension": ".py",
   "mimetype": "text/x-python",
   "name": "python",
   "nbconvert_exporter": "python",
   "pygments_lexer": "ipython3",
   "version": "3.9.7"
  },
  "orig_nbformat": 4
 },
 "nbformat": 4,
 "nbformat_minor": 2
}
